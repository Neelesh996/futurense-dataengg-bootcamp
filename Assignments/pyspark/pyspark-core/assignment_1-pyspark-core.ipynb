{
 "cells": [
  {
   "cell_type": "code",
   "execution_count": 2,
   "id": "c8721094",
   "metadata": {},
   "outputs": [],
   "source": [
    "from pyspark import SparkContext\n",
    "import findspark\n",
    "findspark.init()"
   ]
  },
  {
   "cell_type": "code",
   "execution_count": 3,
   "id": "31d18920",
   "metadata": {},
   "outputs": [
    {
     "data": {
      "text/plain": [
       "dataset/modify1_weather.txt MapPartitionsRDD[1] at textFile at DirectMethodHandleAccessor.java:104"
      ]
     },
     "execution_count": 3,
     "metadata": {},
     "output_type": "execute_result"
    }
   ],
   "source": [
    "sc = SparkContext()\n",
    "rdd= sc.textFile(\"dataset/modify1_weather.txt\")\n",
    "rdd"
   ]
  },
  {
   "cell_type": "code",
   "execution_count": 4,
   "id": "fa6c304d",
   "metadata": {},
   "outputs": [],
   "source": [
    "rdd1= rdd.map(lambda x: x.split(','))"
   ]
  },
  {
   "cell_type": "code",
   "execution_count": 5,
   "id": "db38d16d",
   "metadata": {},
   "outputs": [
    {
     "data": {
      "text/plain": [
       "-7.9"
      ]
     },
     "execution_count": 5,
     "metadata": {},
     "output_type": "execute_result"
    }
   ],
   "source": [
    "rdd3=rdd1.map(lambda x: float(x[6]))\n",
    "rdd3.min()"
   ]
  },
  {
   "cell_type": "code",
   "execution_count": 6,
   "id": "e58147b7",
   "metadata": {},
   "outputs": [
    {
     "data": {
      "text/plain": [
       "36.0"
      ]
     },
     "execution_count": 6,
     "metadata": {},
     "output_type": "execute_result"
    }
   ],
   "source": [
    "rdd4=rdd1.map(lambda x: float(x[5]))\n",
    "rdd4.max()"
   ]
  },
  {
   "cell_type": "code",
   "execution_count": 7,
   "id": "9b25be0e",
   "metadata": {},
   "outputs": [
    {
     "data": {
      "text/plain": [
       "[('03', -3.2),\n",
       " ('0-', 4.4),\n",
       " ('05', 14.3),\n",
       " ('06', 0.0),\n",
       " ('07', 19.8),\n",
       " ('01', -7.9),\n",
       " ('02', -3.5),\n",
       " ('04', 8.0)]"
      ]
     },
     "execution_count": 7,
     "metadata": {},
     "output_type": "execute_result"
    }
   ],
   "source": [
    "rdd5=rdd1.map(lambda x: (x[1][5:7],float(x[6])))\n",
    "grouped_rdd = rdd5.groupByKey()\n",
    "min_values_rdd = grouped_rdd.mapValues(lambda values: min(values))\n",
    "min_values_rdd.collect()"
   ]
  },
  {
   "cell_type": "code",
   "execution_count": 8,
   "id": "cbe85faa",
   "metadata": {},
   "outputs": [
    {
     "data": {
      "text/plain": [
       "[('03', 29.1),\n",
       " ('0-', 13.7),\n",
       " ('05', 31.1),\n",
       " ('06', 33.6),\n",
       " ('07', 36.0),\n",
       " ('01', 26.5),\n",
       " ('02', 26.6),\n",
       " ('04', 30.8)]"
      ]
     },
     "execution_count": 8,
     "metadata": {},
     "output_type": "execute_result"
    }
   ],
   "source": [
    "rdd6=rdd1.map(lambda x: (x[1][5:7],float(x[5])))\n",
    "grouped_rdd = rdd6.groupByKey()\n",
    "max_values_rdd = grouped_rdd.mapValues(lambda values: max(values))\n",
    "max_values_rdd.collect()"
   ]
  },
  {
   "cell_type": "code",
   "execution_count": null,
   "id": "426e0a62",
   "metadata": {},
   "outputs": [],
   "source": []
  }
 ],
 "metadata": {
  "kernelspec": {
   "display_name": "Python 3 (ipykernel)",
   "language": "python",
   "name": "python3"
  },
  "language_info": {
   "codemirror_mode": {
    "name": "ipython",
    "version": 3
   },
   "file_extension": ".py",
   "mimetype": "text/x-python",
   "name": "python",
   "nbconvert_exporter": "python",
   "pygments_lexer": "ipython3",
   "version": "3.9.13"
  }
 },
 "nbformat": 4,
 "nbformat_minor": 5
}
