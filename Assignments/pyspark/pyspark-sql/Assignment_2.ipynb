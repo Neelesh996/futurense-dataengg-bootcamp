{
  "nbformat": 4,
  "nbformat_minor": 0,
  "metadata": {
    "colab": {
      "provenance": []
    },
    "kernelspec": {
      "name": "python3",
      "display_name": "Python 3"
    },
    "language_info": {
      "name": "python"
    }
  },
  "cells": [
    {
      "cell_type": "markdown",
      "source": [
        "# **Assignment #2**\n",
        "###\tBank Marketing Campaign Data Analysis with DataFrame API \n",
        "1.   Load Bank Marketing Dataset and create DataFrame\n",
        "2.   Give marketing success rate. (No. of people subscribed / total no. of entries)\n",
        "3.   Give marketing failure rate\n",
        "4.   Maximum, Mean, and Minimum age of the average targeted customer\n",
        "5.   Check the quality of customers by checking the average balance, median balance of customers\n",
        "6.   Check if age matters in marketing subscription for deposit\n",
        "7.   Show AgeGroup [Teenagers, Youngsters, MiddleAgers, Seniors] wise Subscription Count.\n",
        "8.   Check if marital status mattered for subscription to deposit.\n",
        "9.   Check if age and marital status together mattered for subscription to deposit scheme"
      ],
      "metadata": {
        "id": "Qh26-SEKOU79"
      }
    },
    {
      "cell_type": "code",
      "source": [
        "! pip install pyspark"
      ],
      "metadata": {
        "colab": {
          "base_uri": "https://localhost:8080/"
        },
        "id": "MoQVa08OPJI_",
        "outputId": "a5d06e64-5eec-44d2-fe4a-21dafbc4673b"
      },
      "execution_count": 1,
      "outputs": [
        {
          "output_type": "stream",
          "name": "stdout",
          "text": [
            "Looking in indexes: https://pypi.org/simple, https://us-python.pkg.dev/colab-wheels/public/simple/\n",
            "Collecting pyspark\n",
            "  Downloading pyspark-3.3.2.tar.gz (281.4 MB)\n",
            "\u001b[2K     \u001b[90m━━━━━━━━━━━━━━━━━━━━━━━━━━━━━━━━━━━━━━━\u001b[0m \u001b[32m281.4/281.4 MB\u001b[0m \u001b[31m4.0 MB/s\u001b[0m eta \u001b[36m0:00:00\u001b[0m\n",
            "\u001b[?25h  Preparing metadata (setup.py) ... \u001b[?25l\u001b[?25hdone\n",
            "Collecting py4j==0.10.9.5\n",
            "  Downloading py4j-0.10.9.5-py2.py3-none-any.whl (199 kB)\n",
            "\u001b[2K     \u001b[90m━━━━━━━━━━━━━━━━━━━━━━━━━━━━━━━━━━━━━━\u001b[0m \u001b[32m199.7/199.7 KB\u001b[0m \u001b[31m21.9 MB/s\u001b[0m eta \u001b[36m0:00:00\u001b[0m\n",
            "\u001b[?25hBuilding wheels for collected packages: pyspark\n",
            "  Building wheel for pyspark (setup.py) ... \u001b[?25l\u001b[?25hdone\n",
            "  Created wheel for pyspark: filename=pyspark-3.3.2-py2.py3-none-any.whl size=281824025 sha256=3eda868aaf357005bcd9f1f0187e4a4c44c804928dee50b408e1bbfea4c0ee47\n",
            "  Stored in directory: /root/.cache/pip/wheels/b1/59/a0/a1a0624b5e865fd389919c1a10f53aec9b12195d6747710baf\n",
            "Successfully built pyspark\n",
            "Installing collected packages: py4j, pyspark\n",
            "Successfully installed py4j-0.10.9.5 pyspark-3.3.2\n"
          ]
        }
      ]
    },
    {
      "cell_type": "code",
      "source": [
        "from pyspark.sql import SparkSession"
      ],
      "metadata": {
        "id": "E1KsRCuYPMQC"
      },
      "execution_count": 4,
      "outputs": []
    },
    {
      "cell_type": "code",
      "source": [
        "spark = SparkSession.builder.appName('pyspark-examples').getOrCreate()"
      ],
      "metadata": {
        "id": "IJIJeuidPfPA"
      },
      "execution_count": 5,
      "outputs": []
    },
    {
      "cell_type": "code",
      "source": [
        "df = spark.read.options(delimiter=';',header=True,inferSchema=True).csv(\"bankmarketdata.csv\")"
      ],
      "metadata": {
        "id": "Da-5rJVFQu1H"
      },
      "execution_count": 15,
      "outputs": []
    },
    {
      "cell_type": "code",
      "source": [
        "df.show()"
      ],
      "metadata": {
        "colab": {
          "base_uri": "https://localhost:8080/"
        },
        "id": "EKQO0WPORFKC",
        "outputId": "1c9a763e-1d0d-4224-cad3-0fae7ce9f3f7"
      },
      "execution_count": 16,
      "outputs": [
        {
          "output_type": "stream",
          "name": "stdout",
          "text": [
            "+---+------------+--------+---------+-------+-------+-------+----+-------+---+-----+--------+--------+-----+--------+--------+---+\n",
            "|age|         job| marital|education|default|balance|housing|loan|contact|day|month|duration|campaign|pdays|previous|poutcome|  y|\n",
            "+---+------------+--------+---------+-------+-------+-------+----+-------+---+-----+--------+--------+-----+--------+--------+---+\n",
            "| 58|  management| married| tertiary|     no|   2143|    yes|  no|unknown|  5|  may|     261|       1|   -1|       0| unknown| no|\n",
            "| 44|  technician|  single|secondary|     no|     29|    yes|  no|unknown|  5|  may|     151|       1|   -1|       0| unknown| no|\n",
            "| 33|entrepreneur| married|secondary|     no|      2|    yes| yes|unknown|  5|  may|      76|       1|   -1|       0| unknown| no|\n",
            "| 47| blue-collar| married|  unknown|     no|   1506|    yes|  no|unknown|  5|  may|      92|       1|   -1|       0| unknown| no|\n",
            "| 33|     unknown|  single|  unknown|     no|      1|     no|  no|unknown|  5|  may|     198|       1|   -1|       0| unknown| no|\n",
            "| 35|  management| married| tertiary|     no|    231|    yes|  no|unknown|  5|  may|     139|       1|   -1|       0| unknown| no|\n",
            "| 28|  management|  single| tertiary|     no|    447|    yes| yes|unknown|  5|  may|     217|       1|   -1|       0| unknown| no|\n",
            "| 42|entrepreneur|divorced| tertiary|    yes|      2|    yes|  no|unknown|  5|  may|     380|       1|   -1|       0| unknown| no|\n",
            "| 58|     retired| married|  primary|     no|    121|    yes|  no|unknown|  5|  may|      50|       1|   -1|       0| unknown| no|\n",
            "| 43|  technician|  single|secondary|     no|    593|    yes|  no|unknown|  5|  may|      55|       1|   -1|       0| unknown| no|\n",
            "| 41|      admin.|divorced|secondary|     no|    270|    yes|  no|unknown|  5|  may|     222|       1|   -1|       0| unknown| no|\n",
            "| 29|      admin.|  single|secondary|     no|    390|    yes|  no|unknown|  5|  may|     137|       1|   -1|       0| unknown| no|\n",
            "| 53|  technician| married|secondary|     no|      6|    yes|  no|unknown|  5|  may|     517|       1|   -1|       0| unknown| no|\n",
            "| 58|  technician| married|  unknown|     no|     71|    yes|  no|unknown|  5|  may|      71|       1|   -1|       0| unknown| no|\n",
            "| 57|    services| married|secondary|     no|    162|    yes|  no|unknown|  5|  may|     174|       1|   -1|       0| unknown| no|\n",
            "| 51|     retired| married|  primary|     no|    229|    yes|  no|unknown|  5|  may|     353|       1|   -1|       0| unknown| no|\n",
            "| 45|      admin.|  single|  unknown|     no|     13|    yes|  no|unknown|  5|  may|      98|       1|   -1|       0| unknown| no|\n",
            "| 57| blue-collar| married|  primary|     no|     52|    yes|  no|unknown|  5|  may|      38|       1|   -1|       0| unknown| no|\n",
            "| 60|     retired| married|  primary|     no|     60|    yes|  no|unknown|  5|  may|     219|       1|   -1|       0| unknown| no|\n",
            "| 33|    services| married|secondary|     no|      0|    yes|  no|unknown|  5|  may|      54|       1|   -1|       0| unknown| no|\n",
            "+---+------------+--------+---------+-------+-------+-------+----+-------+---+-----+--------+--------+-----+--------+--------+---+\n",
            "only showing top 20 rows\n",
            "\n"
          ]
        }
      ]
    },
    {
      "cell_type": "code",
      "source": [
        "df.registerTempTable(\"bankmarketing\")"
      ],
      "metadata": {
        "colab": {
          "base_uri": "https://localhost:8080/"
        },
        "id": "GiBy0fU9TES7",
        "outputId": "512a7c01-7b6b-4b33-b3fa-522d114fdbee"
      },
      "execution_count": 18,
      "outputs": [
        {
          "output_type": "stream",
          "name": "stderr",
          "text": [
            "/usr/local/lib/python3.8/dist-packages/pyspark/sql/dataframe.py:229: FutureWarning: Deprecated in 2.0, use createOrReplaceTempView instead.\n",
            "  warnings.warn(\"Deprecated in 2.0, use createOrReplaceTempView instead.\", FutureWarning)\n"
          ]
        }
      ]
    },
    {
      "cell_type": "code",
      "source": [
        "spark.sql(\"select (sum(if(y='yes',1,0))/count(*))*100 from bankmarketing\").show()"
      ],
      "metadata": {
        "colab": {
          "base_uri": "https://localhost:8080/"
        },
        "id": "4ZRFe3YZRH41",
        "outputId": "438d4abb-1245-43bc-b3db-f98b2876e304"
      },
      "execution_count": 19,
      "outputs": [
        {
          "output_type": "stream",
          "name": "stdout",
          "text": [
            "+-----------------------------------------------+\n",
            "|((sum((IF((y = yes), 1, 0))) / count(1)) * 100)|\n",
            "+-----------------------------------------------+\n",
            "|                             11.698480458295547|\n",
            "+-----------------------------------------------+\n",
            "\n"
          ]
        }
      ]
    },
    {
      "cell_type": "code",
      "source": [
        "spark.sql(\"select max(age),min(age),avg(age) from bankmarketing\").show()"
      ],
      "metadata": {
        "colab": {
          "base_uri": "https://localhost:8080/"
        },
        "id": "sf_7u7VPSl0A",
        "outputId": "f1ec436b-7ab7-4ce3-dda3-99c0a39447da"
      },
      "execution_count": 20,
      "outputs": [
        {
          "output_type": "stream",
          "name": "stdout",
          "text": [
            "+--------+--------+-----------------+\n",
            "|max(age)|min(age)|         avg(age)|\n",
            "+--------+--------+-----------------+\n",
            "|      95|      18|40.93621021432837|\n",
            "+--------+--------+-----------------+\n",
            "\n"
          ]
        }
      ]
    },
    {
      "cell_type": "code",
      "source": [
        "spark.sql(\"select avg(balance),percentile_approx(balance,0.5) as medium_balance from bankmarketing\").show()"
      ],
      "metadata": {
        "colab": {
          "base_uri": "https://localhost:8080/"
        },
        "id": "_gpO2ZEKTR8n",
        "outputId": "4b909525-0722-469b-c092-19700b2a847a"
      },
      "execution_count": 21,
      "outputs": [
        {
          "output_type": "stream",
          "name": "stdout",
          "text": [
            "+------------------+--------------+\n",
            "|      avg(balance)|medium_balance|\n",
            "+------------------+--------------+\n",
            "|1362.2720576850766|           448|\n",
            "+------------------+--------------+\n",
            "\n"
          ]
        }
      ]
    },
    {
      "cell_type": "code",
      "source": [
        "spark.sql('select age,count(*) cnt from bankmarketing where y=\"yes\" group by age order by cnt desc ').show()"
      ],
      "metadata": {
        "colab": {
          "base_uri": "https://localhost:8080/"
        },
        "id": "wuXoTQt0TU7R",
        "outputId": "6a232bce-50d5-4d8d-9e7c-b19f61f1795a"
      },
      "execution_count": 22,
      "outputs": [
        {
          "output_type": "stream",
          "name": "stdout",
          "text": [
            "+---+---+\n",
            "|age|cnt|\n",
            "+---+---+\n",
            "| 32|221|\n",
            "| 30|217|\n",
            "| 33|210|\n",
            "| 35|209|\n",
            "| 31|206|\n",
            "| 34|198|\n",
            "| 36|195|\n",
            "| 29|171|\n",
            "| 37|170|\n",
            "| 28|162|\n",
            "| 38|144|\n",
            "| 39|143|\n",
            "| 27|141|\n",
            "| 26|134|\n",
            "| 41|120|\n",
            "| 46|118|\n",
            "| 40|116|\n",
            "| 47|113|\n",
            "| 25|113|\n",
            "| 42|111|\n",
            "+---+---+\n",
            "only showing top 20 rows\n",
            "\n"
          ]
        }
      ]
    },
    {
      "cell_type": "code",
      "source": [
        "spark.sql(\"select (case when age<13 then 'Kids' when age<20 then 'Teenagers' when age<31 then 'Youngsters' when age<50 then 'Middleagers 'else 'Seniors' end) as ag,count(*) sub_cnt from bankmarketing where y='yes' group by ag order by sub_cnt desc \").show()"
      ],
      "metadata": {
        "colab": {
          "base_uri": "https://localhost:8080/"
        },
        "id": "yNIcL6ShTYmV",
        "outputId": "be7e8a3e-81e7-4848-d5f7-ca5b4b22b303"
      },
      "execution_count": 23,
      "outputs": [
        {
          "output_type": "stream",
          "name": "stdout",
          "text": [
            "+------------+-------+\n",
            "|          ag|sub_cnt|\n",
            "+------------+-------+\n",
            "|Middleagers |   2759|\n",
            "|     Seniors|   1385|\n",
            "|  Youngsters|   1127|\n",
            "|   Teenagers|     18|\n",
            "+------------+-------+\n",
            "\n"
          ]
        }
      ]
    },
    {
      "cell_type": "code",
      "source": [
        "spark.sql(\"select marital, count(*) as number from bankmarketing where y='yes' group by marital order by number desc\").show()"
      ],
      "metadata": {
        "colab": {
          "base_uri": "https://localhost:8080/"
        },
        "id": "ocCXA9buTb10",
        "outputId": "7f6d1082-6633-4ed3-943f-f5460f0f9968"
      },
      "execution_count": 26,
      "outputs": [
        {
          "output_type": "stream",
          "name": "stdout",
          "text": [
            "+--------+------+\n",
            "| marital|number|\n",
            "+--------+------+\n",
            "| married|  2755|\n",
            "|  single|  1912|\n",
            "|divorced|   622|\n",
            "+--------+------+\n",
            "\n"
          ]
        }
      ]
    },
    {
      "cell_type": "code",
      "source": [
        "spark.sql(\"select age, marital, count(*) as number from bankmarketing where y='yes' group by age,marital order by number desc\").show()"
      ],
      "metadata": {
        "colab": {
          "base_uri": "https://localhost:8080/"
        },
        "id": "i418tj2uUs3n",
        "outputId": "011859ff-2ac3-4606-fc25-bffb1f3321c0"
      },
      "execution_count": 27,
      "outputs": [
        {
          "output_type": "stream",
          "name": "stdout",
          "text": [
            "+---+-------+------+\n",
            "|age|marital|number|\n",
            "+---+-------+------+\n",
            "| 30| single|   151|\n",
            "| 28| single|   138|\n",
            "| 29| single|   133|\n",
            "| 32| single|   124|\n",
            "| 26| single|   121|\n",
            "| 34|married|   118|\n",
            "| 31| single|   111|\n",
            "| 27| single|   110|\n",
            "| 35|married|   101|\n",
            "| 36|married|   100|\n",
            "| 25| single|    99|\n",
            "| 37|married|    98|\n",
            "| 33| single|    97|\n",
            "| 33|married|    97|\n",
            "| 32|married|    87|\n",
            "| 39|married|    87|\n",
            "| 38|married|    86|\n",
            "| 35| single|    84|\n",
            "| 47|married|    83|\n",
            "| 46|married|    80|\n",
            "+---+-------+------+\n",
            "only showing top 20 rows\n",
            "\n"
          ]
        }
      ]
    },
    {
      "cell_type": "code",
      "source": [],
      "metadata": {
        "id": "XQ2uyqWpVLKP"
      },
      "execution_count": null,
      "outputs": []
    }
  ]
}